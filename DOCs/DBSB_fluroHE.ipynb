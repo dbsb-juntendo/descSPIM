{
 "cells": [
  {
   "cell_type": "markdown",
   "id": "bc9b9d84",
   "metadata": {},
   "source": [
    "**Fluorescence Microscopy Image Processor Notebook**\n",
    "----------------------------------------------------\n",
    "\n",
    "This Jupyter Notebook provides a set of operations to process fluorescence microscopy images using a false coloring scheme. The processes include reading in nuclear and cytoplasmic channels from an HDF5 file, applying false HE coloring to them, and saving the results as TIFF images. The approach uses the method described in the paper: [Serafin et al. 2020](https://doi.org/10.1371/journal.pone.0233198).\n",
    "\n",
    "**Dependencies**:\n",
    "\n",
    "- Custom `falsecolor` module for false coloring operations.\n",
    "- Image reading and writing libraries such as `h5py` and `tifffile`.\n",
    "- Standard Python libraries for data processing and manipulation.\n",
    "- ImageJ or Fiji software.\n",
    "\n",
    "Author: takakiom  \n",
    "Date: 09/19/2023  \n",
    "License: MIT License (refer to the LICENSE file in the root directory for more details)\n"
   ]
  },
  {
   "cell_type": "markdown",
   "id": "34ab8a6b",
   "metadata": {},
   "source": [
    "**Setting Parameters**:\n",
    "Before performing image operations, we set paths, parameters for coloring, and other essential settings.\n"
   ]
  },
  {
   "cell_type": "code",
   "execution_count": null,
   "id": "c6c2f716",
   "metadata": {},
   "outputs": [],
   "source": [
    "import falsecolor.coloring as fc\n",
    "from falsecolor.process import ViewImage\n",
    "import numpy as np\n",
    "import os\n",
    "import h5py as h5\n",
    "import glob\n",
    "import time\n",
    "import datetime\n",
    "import tifffile\n",
    "from multiprocessing import Pool"
   ]
  },
  {
   "cell_type": "markdown",
   "id": "bb3f2d10",
   "metadata": {},
   "source": [
    "**Image Processing**:\n",
    "This section involves reading in the nuclear and cytoplasmic channels, applying false coloring, and saving the processed images.\n",
    "\n",
    "You can create a HDF5 file easily using ImageJ/FIJI software with BigStitcher plugin.\n"
   ]
  },
  {
   "cell_type": "code",
   "execution_count": null,
   "id": "805b8e91",
   "metadata": {},
   "outputs": [],
   "source": [
    "###\n",
    "# Set params\n",
    "###\n",
    "\n",
    "# Path for the target hdf file\n",
    "hdf_path = '/enter/your/hdf5//dataset.h5'\n",
    "base_path = os.path.dirname(hdf_path)\n",
    "\n",
    "# Set param for coloring\n",
    "# Modify these params to meet your applications\n",
    "param_nuc = 200\n",
    "param_cyto = 1600\n",
    "\n",
    "\n",
    "# Base path  for output data\n",
    "date = datetime.date.today()\n",
    "date= date.strftime(\"%m%d\")\n",
    "base_outpath = os.path.join(base_path, f'output_{date}')\n",
    "os.makedirs(base_outpath, exist_ok=True)\n"
   ]
  },
  {
   "cell_type": "code",
   "execution_count": null,
   "id": "a1b9ba79",
   "metadata": {},
   "outputs": [],
   "source": [
    "with h5.File(hdf_path,'r') as f:\n",
    "    \n",
    "    #read nuclear channel into memory\n",
    "    nuclei_HE = f['t00000/s00/0/cells'][:]\n",
    "    \n",
    "    #read cytoplasmic channel into memory\n",
    "    cyto_HE = f['t00000/s01/0/cells'][:]\n",
    "f.close()\n",
    "\n",
    "print(nuclei_HE.shape, cyto_HE.shape)\n",
    "\n",
    "#grab color settings for virtual H&E\n",
    "HE_settings = fc.getColorSettings(key = 'HE')\n",
    "\n",
    "#Color settings for each image are in RGB order\n",
    "print(HE_settings)\n",
    "\n",
    "# Get the directory name containing the file\n",
    "dir_name = os.path.dirname(hdf_path)\n",
    "# Get the last part of the path (the folder name)\n",
    "folder_name = os.path.split(dir_name)[-1]\n",
    "\n",
    "# full tif saving\n",
    "\n",
    "# Create the directory if it doesn't exist\n",
    "single_outpath = os.path.join(base_outpath, 'sigle_slices' )\n",
    "os.makedirs(single_outpath, exist_ok=True)\n",
    "\n",
    "stack = None\n",
    "\n",
    "if nuclei_HE.shape != cyto_HE.shape :\n",
    "    raise ValueError(\"Different shape\")\n",
    "slices = nuclei_HE.shape[0]\n",
    "\n",
    "for i in range(0,slices,200):\n",
    "    #default normalization levels for non-flatfielded data are set as follows\n",
    "    TestHE = fc.rapidFalseColor(nuclei_HE[i], cyto_HE[i], HE_settings['nuclei'], HE_settings['cyto'],\n",
    "                                    nuc_normfactor = param_nuc, cyto_normfactor = param_cyto)\n",
    "    if stack is None:\n",
    "        stack = np.array([TestHE])\n",
    "    else:\n",
    "        stack = np.append(stack, [TestHE], axis=0)\n",
    "    \n",
    "    # For each slice\n",
    "    title_single = f'{folder_name}_slice#{i}.tif'\n",
    "    # Save the figure as a high-resolution TIFF image\n",
    "    out_path_single = os.path.join(single_outpath, title_single )\n",
    "    # Assuming img is your image data in a numpy array\n",
    "    tifffile.imwrite(out_path_single, TestHE)\n",
    "\n",
    "# Save the figure as a TIFF stack\n",
    "out_path_stack = os.path.join(base_outpath, \"FluroHE_stack.tif\" )\n",
    "# Assuming img is your image data in a numpy array\n",
    "tifffile.imwrite(out_path_stack, stack)"
   ]
  },
  {
   "cell_type": "markdown",
   "id": "f121998c",
   "metadata": {},
   "source": [
    "(Optional)**Multiprocessing for Efficient Image Processing**:\n",
    "To speed up the image processing operations, we utilize multiple CPU cores to process slices of the microscopy data concurrently.\n"
   ]
  },
  {
   "attachments": {},
   "cell_type": "markdown",
   "id": "6edbe5f8",
   "metadata": {},
   "source": [
    "(Optional)**Multiprocessing**"
   ]
  },
  {
   "cell_type": "code",
   "execution_count": null,
   "id": "ac5f5c5c",
   "metadata": {},
   "outputs": [],
   "source": [
    "%%time\n",
    "\n",
    "processes = 8\n",
    "\n",
    "def process_slice(i):\n",
    "    if np.all(nuclei_HE[i] == 0) and np.all(cyto_HE[i] == 0):\n",
    "        return None\n",
    "    else:\n",
    "        TestHE = fc.rapidFalseColor(nuclei_HE[i], cyto_HE[i], HE_settings['nuclei'], HE_settings['cyto'],\n",
    "                                    nuc_normfactor = param_nuc, cyto_normfactor = param_cyto)\n",
    "        return TestHE\n",
    "\n",
    "def save_slice(data, i):\n",
    "    if data is None:\n",
    "        return\n",
    "    title_single = f'{folder_name}_slice#{i}.tif'\n",
    "    out_path_single = os.path.join(single_outpath, title_single )\n",
    "    tifffile.imwrite(out_path_single, data)\n",
    "\n",
    "with h5.File(hdf_path,'r') as f:\n",
    "    nuclei_HE = f['t00000/s00/0/cells'][:]\n",
    "    cyto_HE = f['t00000/s01/0/cells'][:]\n",
    "\n",
    "print(nuclei_HE.shape, cyto_HE.shape)\n",
    "\n",
    "HE_settings = fc.getColorSettings(key = 'HE')\n",
    "print(HE_settings)\n",
    "\n",
    "dir_name = os.path.dirname(hdf_path)\n",
    "folder_name = os.path.split(dir_name)[-1]\n",
    "\n",
    "single_outpath = os.path.join(base_outpath, 'sigle_slices' )\n",
    "os.makedirs(single_outpath, exist_ok=True)\n",
    "\n",
    "if nuclei_HE.shape != cyto_HE.shape :\n",
    "    raise ValueError(\"Different shape\")\n",
    "\n",
    "slices = nuclei_HE.shape[0]\n",
    "slice_indices = list(range(50, 650))\n",
    "\n",
    "with Pool(processes=processes) as pool:\n",
    "    results = pool.map(process_slice, slice_indices)\n",
    "\n",
    "results = [r for r in results if r is not None]\n",
    "stack = np.stack(results, axis=0)\n",
    "\n",
    "out_path_stack = os.path.join(base_outpath, \"FluroHE_stack.tif\" )\n",
    "tifffile.imwrite(out_path_stack, stack)\n",
    "\n",
    "with Pool(processes=processes) as pool:\n",
    "    pool.starmap(save_slice, zip(results, slice_indices))\n"
   ]
  },
  {
   "cell_type": "markdown",
   "id": "5ca68bfa",
   "metadata": {},
   "source": [
    "**Final Remarks**:\n",
    "- Always ensure you have the necessary permissions to access and process the data.\n",
    "- Please refer to the aforementioned paper for details on the false coloring method used in this notebook.\n"
   ]
  }
 ],
 "metadata": {
  "kernelspec": {
   "display_name": "Python 3 (ipykernel)",
   "language": "python",
   "name": "python3"
  },
  "language_info": {
   "codemirror_mode": {
    "name": "ipython",
    "version": 3
   },
   "file_extension": ".py",
   "mimetype": "text/x-python",
   "name": "python",
   "nbconvert_exporter": "python",
   "pygments_lexer": "ipython3",
   "version": "3.9.16"
  }
 },
 "nbformat": 4,
 "nbformat_minor": 5
}
