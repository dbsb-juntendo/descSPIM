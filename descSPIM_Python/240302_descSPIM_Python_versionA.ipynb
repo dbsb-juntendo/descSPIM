{
 "cells": [
  {
   "cell_type": "markdown",
   "id": "e364f928-9ce7-4dd1-9ee6-a815820609c0",
   "metadata": {
    "id": "e364f928-9ce7-4dd1-9ee6-a815820609c0"
   },
   "source": [
    "# descSPIM-Python\n",
    "This program is a control application for descSPIM in notebook format. By following the guide and launching Micro-Mnager, the program GUI, it is possible to control all devices at once.\n",
    "\n",
    "By using this program, the following objectives can be achieved\n",
    "\n",
    "・Automation of imaging\n",
    "\n",
    "・Ensure reproducibility of imaging (reduction of manual errors)\n",
    "\n",
    "\n",
    "\n",
    "#### 1. confirmation items\n",
    "After completing the setup according to the installation guide, run the cells in order to confirm the installation contents. 2.\n",
    "\n",
    "#### 2. control program\n",
    "After confirming 1. above, run the cells according to the guide to enable imaging according to your purpose."
   ]
  },
  {
   "cell_type": "markdown",
   "id": "7312e50b-b773-4f72-82b3-488cbaa0e45c",
   "metadata": {},
   "source": [
    "# 2. Control Program"
   ]
  },
  {
   "cell_type": "markdown",
   "id": "95bf099b-cc70-4409-908c-67f6f8df9ee4",
   "metadata": {},
   "source": [
    "#### Install Thorlabs related dll files"
   ]
  },
  {
   "cell_type": "code",
   "execution_count": 1,
   "id": "8ebf1cfd",
   "metadata": {
    "id": "8ebf1cfd",
    "outputId": "6d01a24f-8ba4-4169-e337-6c380551b412"
   },
   "outputs": [
    {
     "name": "stdout",
     "output_type": "stream",
     "text": [
      "System.Collections.Generic.List`1[System.String]\n"
     ]
    }
   ],
   "source": [
    "import clr\n",
    "clr.AddReference(\"C:\\\\Program Files\\\\Thorlabs\\\\Kinesis\\\\Thorlabs.MotionControl.DeviceManagerCLI.dll\")\n",
    "clr.AddReference(\"C:\\\\Program Files\\\\Thorlabs\\\\Kinesis\\\\Thorlabs.MotionControl.GenericMotorCLI.dll\")\n",
    "clr.AddReference(\"C:\\\\Program Files\\\\Thorlabs\\\\Kinesis\\\\ThorLabs.MotionControl.KCube.StepperMotorCLI.dll\")\n",
    "clr.AddReference(\"C:\\Program Files\\Thorlabs\\Kinesis\\ThorLabs.MotionControl.KCube.DCServoCLI.dll\")\n",
    "clr.AddReference(\"C:\\Program Files\\Thorlabs\\Kinesis\\Thorlabs.MotionControl.KCube.StepperMotorCLI.dll\")\n",
    "\n",
    "from Thorlabs.MotionControl.DeviceManagerCLI import *\n",
    "from Thorlabs.MotionControl.GenericMotorCLI import *\n",
    "from Thorlabs.MotionControl.GenericMotorCLI.ControlParameters import *\n",
    "from Thorlabs.MotionControl.GenericMotorCLI.AdvancedMotor import *\n",
    "from Thorlabs.MotionControl.GenericMotorCLI.Settings import *\n",
    "from Thorlabs.MotionControl.KCube.DCServoCLI import *\n",
    "from Thorlabs.MotionControl.KCube.StepperMotorCLI import *\n",
    "\n",
    "DeviceManagerCLI.BuildDeviceList()\n",
    "devices = DeviceManagerCLI.GetDeviceList()\n",
    "print(devices)\n"
   ]
  },
  {
   "cell_type": "markdown",
   "id": "e9186a68-5f49-4d93-9426-e56953ad84c7",
   "metadata": {},
   "source": [
    "#### Other Installations"
   ]
  },
  {
   "cell_type": "code",
   "execution_count": 2,
   "id": "eaa816aa-eea3-4865-9043-9f0ea542ae98",
   "metadata": {},
   "outputs": [],
   "source": [
    "import time\n",
    "import os\n",
    "import sys\n",
    "import hid # Library for USB Devices\n",
    "import math\n",
    "import datetime\n",
    "import clr #pythonnet\n",
    "from ctypes import *\n",
    "from pymmcore_plus import CMMCorePlus, DeviceType\n",
    "from qtpy.QtWidgets import QApplication, QGroupBox, QHBoxLayout, QWidget\n",
    "from pymmcore_widgets import StageWidget\n",
    "from pymmcore_plus import CMMCorePlus"
   ]
  },
  {
   "cell_type": "markdown",
   "id": "71a3a6c0-3ea7-4827-91aa-272872997138",
   "metadata": {},
   "source": [
    "#### Loading batch file and launching Micro-Manger"
   ]
  },
  {
   "cell_type": "markdown",
   "id": "dad57882-0f9b-4efb-92c3-8b639192edad",
   "metadata": {},
   "source": [
    "In Micro-Manager, select the batch file in the same path as the cell below and proceed to the next step."
   ]
  },
  {
   "cell_type": "code",
   "execution_count": 3,
   "id": "aaeb8459-5429-44b7-93b3-0969b7f3cac4",
   "metadata": {},
   "outputs": [
    {
     "data": {
      "text/plain": [
       "<Popen: returncode: None args: 'C:/Users/DBSB/Desktop/231221_batch_camera_YN...>"
      ]
     },
     "execution_count": 3,
     "metadata": {},
     "output_type": "execute_result"
    }
   ],
   "source": [
    "import subprocess\n",
    "\n",
    "batch_file = r\"C:/Users/DBSB/Desktop/231221_batch_camera_YN.bat\"\n",
    "\n",
    "subprocess.Popen(batch_file, shell=True)"
   ]
  },
  {
   "cell_type": "markdown",
   "id": "6005c4b2-4321-45e4-bf9f-5bf423e6aedb",
   "metadata": {},
   "source": [
    "If the above code does not get you up and running, try the following (Otherwise, skip it.)"
   ]
  },
  {
   "cell_type": "code",
   "execution_count": 4,
   "id": "4ea46c86-361b-47a0-8d46-bd38a7a9f89f",
   "metadata": {},
   "outputs": [],
   "source": [
    "# !\"C:/Users/DBSB/Downloads/231220_batch_34555.bat\""
   ]
  },
  {
   "cell_type": "markdown",
   "id": "9ef03e05-182c-41ba-a22e-2945a46bc484",
   "metadata": {},
   "source": [
    "#### Initialize the Thorlabs Kinesis library"
   ]
  },
  {
   "cell_type": "markdown",
   "id": "f35da59a-8aad-4a5e-8394-2174d9a0ccdb",
   "metadata": {},
   "source": [
    "The following cells should be executed only once and then not re-run."
   ]
  },
  {
   "cell_type": "code",
   "execution_count": 4,
   "id": "ba7ed2fc-a03a-4078-b529-27a4f9e8fbf7",
   "metadata": {},
   "outputs": [],
   "source": [
    "import sys\n",
    "import os\n",
    "from ctypes import cdll\n",
    "\n",
    "if sys.version_info < (3, 8):\n",
    "    os.chdir(r\"C:\\Program Files\\Thorlabs\\Kinesis\")\n",
    "else:\n",
    "    os.add_dll_directory(r\"C:\\Program Files\\Thorlabs\\Kinesis\")\n",
    "\n",
    "lib = cdll.LoadLibrary(\"Thorlabs.MotionControl.KCube.DCServo.dll\")"
   ]
  },
  {
   "cell_type": "markdown",
   "id": "ac1dded8-1556-4518-8df7-1d6bcaffe10a",
   "metadata": {},
   "source": [
    "#### Homing of two stages"
   ]
  },
  {
   "cell_type": "markdown",
   "id": "522eb905-3398-4d7f-8bef-86133bfc4f03",
   "metadata": {},
   "source": [
    "Allow 60 seconds for the motor to return to home (default 0 point); check the numerical display of the motor on the KDC101 to confirm that it has returned to 0.0000 mm. *If the motor does not return to home within 60 seconds, increase the maximum waiting time (in seconds) for completion of homing at any time."
   ]
  },
  {
   "cell_type": "code",
   "execution_count": 5,
   "id": "fb1982ab-4537-43c9-964c-17c3682a2b66",
   "metadata": {},
   "outputs": [
    {
     "name": "stdout",
     "output_type": "stream",
     "text": [
      "Sample stage homed. Current position:  0.0\n",
      "Camera stage homed. Current position:  0.0\n"
     ]
    }
   ],
   "source": [
    "from PyQt5.QtCore import QThread\n",
    "from pymmcore_plus import CMMCorePlus\n",
    "import time\n",
    "\n",
    "class HomingThread(QThread):\n",
    "    def __init__(self, mmc, max_wait_time):\n",
    "        QThread.__init__(self)\n",
    "        self.mmc = mmc\n",
    "        self.max_wait_time = max_wait_time\n",
    "\n",
    "    def run(self):\n",
    "        try:\n",
    "            self.mmc.home(\"sampleStage\")\n",
    "            self.mmc.home(\"cameraStage\")\n",
    "\n",
    "            start_time = time.time()\n",
    "            while time.time() - start_time < self.max_wait_time:\n",
    "                sample_position = self.mmc.getPosition(\"sampleStage\")\n",
    "                camera_position = self.mmc.getPosition(\"cameraStage\")\n",
    "                if sample_position == self.mmc.getPosition(\"sampleStage\") and camera_position == self.mmc.getPosition(\"cameraStage\"):\n",
    "                    break\n",
    "                time.sleep(0.1)\n",
    "\n",
    "            print(\"Sample stage homed. Current position: \", self.mmc.getPosition(\"sampleStage\"))\n",
    "            print(\"Camera stage homed. Current position: \", self.mmc.getPosition(\"cameraStage\"))\n",
    "        except Exception as e:\n",
    "            print(\"An error occurred:\", e)\n",
    "\n",
    "mmc = CMMCorePlus().instance()\n",
    "mmc.loadSystemConfiguration(\"C:/Users/DBSB/Desktop/231221_stage_YN.cfg\")\n",
    "homing_thread = HomingThread(mmc, 60)　# Change the value here from 60 in some cases\n",
    "homing_thread.start()"
   ]
  },
  {
   "cell_type": "markdown",
   "id": "2a79852f-efa9-4f12-b9db-1dcff13999e2",
   "metadata": {},
   "source": [
    "#### First, both motors are set to Vel: 1 mm/s, Acc: 2 mm/s^2 for alignment."
   ]
  },
  {
   "cell_type": "code",
   "execution_count": 5,
   "id": "226c97ac-cad3-4ea7-b34a-12642fde68ed",
   "metadata": {},
   "outputs": [],
   "source": [
    "# See: https://optomechs.com/pdf/manuals/KDC101/KDC101_ManualforAPT.pdf"
   ]
  },
  {
   "cell_type": "markdown",
   "id": "5ab49853-6fcd-4330-859e-d518c457280b",
   "metadata": {},
   "source": [
    "  CC_SetVelParams(serial_num, 396, 773000) is determined by the device unit and can be checked from the kinesis application if necessary."
   ]
  },
  {
   "cell_type": "code",
   "execution_count": 6,
   "id": "b0852b86-aec6-45f2-9a8e-0235350d1ab2",
   "metadata": {},
   "outputs": [
    {
     "name": "stdout",
     "output_type": "stream",
     "text": [
      "Velocity set for both motors\n"
     ]
    }
   ],
   "source": [
    "from ctypes import c_char_p, c_int\n",
    "\n",
    "# Assuming 'lib' is already defined and appropriate functions are loaded from the DLL\n",
    "\n",
    "# Serial numbers for the two motors\n",
    "serial_nums = [c_char_p(b\"27260577\"), c_char_p(b\"27260136\")]\n",
    "\n",
    "# Iterate through each serial number to set the velocity\n",
    "for serial_num in serial_nums:\n",
    "    # Open the device\n",
    "    if lib.TLI_BuildDeviceList() == 0:\n",
    "        lib.CC_Open(serial_num)\n",
    "        lib.CC_StartPolling(serial_num, c_int(200))\n",
    "\n",
    "        # Set the velocity\n",
    "        lib.CC_SetVelParams(serial_num, 396, 773000)\n",
    "\n",
    "        # Close the device\n",
    "        lib.CC_Close(serial_num)\n",
    "\n",
    "print(\"Velocity set for both motors\")\n"
   ]
  },
  {
   "cell_type": "markdown",
   "id": "bc474a29-43ff-4551-9b9a-a19f0540a703",
   "metadata": {},
   "source": [
    "#### Alignment determination by arbitrary speed (for more detailed alignment)"
   ]
  },
  {
   "cell_type": "markdown",
   "id": "54c92391-0632-4c7f-8e5a-738303dd0d45",
   "metadata": {},
   "source": [
    "In this cell, you can enter any speed in the text box in the GUI. This cell is used when you want to speed up or slow down the speed from the upper cell to determine a finer alignment.\n",
    "You may use this cell from the beginning to freely determine the speed."
   ]
  },
  {
   "cell_type": "code",
   "execution_count": 7,
   "id": "771bd1d1-f42f-4bef-baf8-568612853aa2",
   "metadata": {},
   "outputs": [
    {
     "name": "stdout",
     "output_type": "stream",
     "text": [
      "Velocity set for 27260577\n",
      "Velocity set for 27260136\n"
     ]
    }
   ],
   "source": [
    "from tkinter import Tk, Label, Entry, Button, Frame\n",
    "from ctypes import c_char_p, c_int\n",
    "\n",
    "# Assuming 'lib' is already defined and appropriate functions are loaded from the DLL\n",
    "\n",
    "def set_velocity(serial_num, velocity_entry):\n",
    "    velocity_mm_s = float(velocity_entry.get())\n",
    "    # Convert the velocity from mm/s to device units\n",
    "    velocity_device_unit = int(velocity_mm_s * 773000)  # Conversion formula based on provided information\n",
    "    \n",
    "    # Open the device\n",
    "    if lib.TLI_BuildDeviceList() == 0:\n",
    "        lib.CC_Open(serial_num)\n",
    "        lib.CC_StartPolling(serial_num, c_int(200))\n",
    "\n",
    "        # Set the velocity\n",
    "        lib.CC_SetVelParams(serial_num, 396, velocity_device_unit)\n",
    "\n",
    "        # Close the device\n",
    "        lib.CC_Close(serial_num)\n",
    "    print(f\"Velocity set for {serial_num.value.decode()}\")\n",
    "\n",
    "# GUI setup\n",
    "root = Tk()\n",
    "root.title(\"Velocity Setter\")\n",
    "\n",
    "# Serial numbers and their labels\n",
    "motor_info = [(c_char_p(b\"27260577\"), \"sampleStage\"), (c_char_p(b\"27260136\"), \"cameraStage\")]\n",
    "\n",
    "for serial_num, label in motor_info:\n",
    "    frame = Frame(root)\n",
    "    frame.pack()\n",
    "\n",
    "    Label(frame, text=f\"Enter Velocity for {label} ({serial_num.value.decode()}) (mm/s):\").pack(side=\"left\")\n",
    "    velocity_entry = Entry(frame)\n",
    "    velocity_entry.pack(side=\"left\")\n",
    "    \n",
    "    Button(frame, text=\"Set Velocity\", command=lambda s=serial_num, v=velocity_entry: set_velocity(s, v)).pack(side=\"right\")\n",
    "\n",
    "root.mainloop()\n"
   ]
  },
  {
   "cell_type": "markdown",
   "id": "1c6fd498-df01-4659-9909-a79acaacd8b4",
   "metadata": {},
   "source": [
    "#### Start-up of motor controller (setting of starting position)"
   ]
  },
  {
   "cell_type": "markdown",
   "id": "96eb5d9c-85da-4e66-8d16-df2874521acc",
   "metadata": {},
   "source": [
    "To find the focal point manually, execute the following cells. You can track the current position by checking the Poll checkbox in the lower right corner of the window."
   ]
  },
  {
   "cell_type": "code",
   "execution_count": 7,
   "id": "230deda2-9078-40d5-96ed-546e058e4e20",
   "metadata": {},
   "outputs": [
    {
     "name": "stdout",
     "output_type": "stream",
     "text": [
      "アプリケーションを終了します\n"
     ]
    },
    {
     "ename": "SystemExit",
     "evalue": "0",
     "output_type": "error",
     "traceback": [
      "An exception has occurred, use %tb to see the full traceback.\n",
      "\u001b[1;31mSystemExit\u001b[0m\u001b[1;31m:\u001b[0m 0\n"
     ]
    },
    {
     "name": "stderr",
     "output_type": "stream",
     "text": [
      "C:\\Users\\DBSB\\myenv\\lib\\site-packages\\IPython\\core\\interactiveshell.py:3558: UserWarning: To exit: use 'exit', 'quit', or Ctrl-D.\n",
      "  warn(\"To exit: use 'exit', 'quit', or Ctrl-D.\", stacklevel=1)\n"
     ]
    }
   ],
   "source": [
    "from PyQt5.QtWidgets import QApplication, QWidget, QHBoxLayout, QGroupBox\n",
    "from pymmcore_plus import CMMCorePlus, DeviceType\n",
    "from pymmcore_widgets import StageWidget\n",
    "import sys\n",
    "\n",
    "class MainApplication(QWidget):\n",
    "    def __init__(self, mmc):\n",
    "        super().__init__()\n",
    "        self.setLayout(QHBoxLayout())\n",
    "        self.mmc = mmc\n",
    "        self.initUI()\n",
    "\n",
    "    def initUI(self):\n",
    "        try:\n",
    "            stage_dev_list = list(self.mmc.getLoadedDevicesOfType(DeviceType.Stage))\n",
    "\n",
    "            for stage_dev in stage_dev_list:\n",
    "                device_type = self.mmc.getDeviceType(stage_dev)\n",
    "                if device_type is DeviceType.Stage:\n",
    "                    bx = QGroupBox(\"Z Control\")\n",
    "                    bx.setLayout(QHBoxLayout())\n",
    "                    bx.layout().addWidget(StageWidget(device=stage_dev))\n",
    "                    self.layout().addWidget(bx)\n",
    "                else:\n",
    "                    print(f\"Device {stage_dev} is not a Stage device, it's a {device_type}\")\n",
    "        except Exception as e:\n",
    "            print(f\"An error occurred: {e}\")\n",
    "\n",
    "def on_exit():\n",
    "  \n",
    "    print(\"Terminate application\")\n",
    "\n",
    "def main():\n",
    "    app = QApplication([])\n",
    "    app.aboutToQuit.connect(on_exit)  # Set up processing at the end of the day\n",
    "\n",
    "    mmc = CMMCorePlus().instance()\n",
    "    try:\n",
    "        mmc.loadSystemConfiguration(\"C:/Users/DBSB/Desktop/231221_stage_YN.cfg\")\n",
    "        mainApp = MainApplication(mmc)\n",
    "        mainApp.show()\n",
    "        sys.exit(app.exec())  # Exit the application using sys.exit() before calling exec()\n",
    "    except Exception as e:\n",
    "        print(\"An error occurred:\", e)\n",
    "\n",
    "if __name__ == '__main__':\n",
    "    main()\n"
   ]
  },
  {
   "cell_type": "markdown",
   "id": "0f4d2b3c-be3d-4d64-b2ce-02fcf5f965e7",
   "metadata": {},
   "source": [
    "### Acquisition of start position"
   ]
  },
  {
   "cell_type": "markdown",
   "id": "951ac335-0f39-47cd-ba1b-71d05c038ddb",
   "metadata": {},
   "source": [
    "The program acquires the initial position."
   ]
  },
  {
   "cell_type": "code",
   "execution_count": 8,
   "id": "c8376502-d427-4cb0-beb5-0cdf1443b197",
   "metadata": {
    "scrolled": true
   },
   "outputs": [
    {
     "name": "stdout",
     "output_type": "stream",
     "text": [
      "Initial sampleStage position:  48.18405440601939\n",
      "Initial cameraStage position:  56.31601794241065\n"
     ]
    }
   ],
   "source": [
    "mmc = CMMCorePlus.instance()\n",
    "\n",
    "sampleStart = mmc.getPosition(\"sampleStage\")\n",
    "cameraStart = mmc.getPosition(\"cameraStage\")\n",
    "print(\"Initial sampleStage position: \", sampleStart)\n",
    "print(\"Initial cameraStage position: \", cameraStart)"
   ]
  },
  {
   "cell_type": "markdown",
   "id": "bd791970-d171-4d8b-a7a2-1493ca9fc0e6",
   "metadata": {},
   "source": [
    "#### Start-up of motor controller (setting of end position)"
   ]
  },
  {
   "cell_type": "code",
   "execution_count": 9,
   "id": "4f37c324-fea9-4a99-be38-e9b30856705b",
   "metadata": {},
   "outputs": [
    {
     "name": "stdout",
     "output_type": "stream",
     "text": [
      "アプリケーションを終了します\n"
     ]
    },
    {
     "data": {
      "text/plain": [
       "0"
      ]
     },
     "execution_count": 9,
     "metadata": {},
     "output_type": "execute_result"
    }
   ],
   "source": [
    "from pymmcore_plus import CMMCorePlus, DeviceType\n",
    "from PyQt5.QtWidgets import QApplication, QWidget, QHBoxLayout, QGroupBox\n",
    "from pymmcore_widgets import StageWidget\n",
    "\n",
    "app = QApplication.instance()\n",
    "if app is None:\n",
    "    app = QApplication([])\n",
    "\n",
    "mmc = CMMCorePlus().instance()\n",
    "\n",
    "config_file = \"C:/Users/DBSB/Desktop/231221_stage_YN.cfg\"\n",
    "mmc.loadSystemConfiguration(config_file)\n",
    "\n",
    "wdg = QWidget()\n",
    "wdg.setLayout(QHBoxLayout())\n",
    "\n",
    "try:\n",
    "    stage_dev_list = list(mmc.getLoadedDevicesOfType(DeviceType.Stage))\n",
    "\n",
    "    for stage_dev in stage_dev_list:\n",
    "        device_type = mmc.getDeviceType(stage_dev)\n",
    "        if device_type is DeviceType.Stage:\n",
    "            bx = QGroupBox(\"Z Control\")\n",
    "            bx.setLayout(QHBoxLayout())\n",
    "            bx.layout().addWidget(StageWidget(device=stage_dev))\n",
    "            wdg.layout().addWidget(bx)\n",
    "        else:\n",
    "            print(f\"Device {stage_dev} is not a Stage device, it's a {device_type}\")\n",
    "except Exception as e:\n",
    "    print(f\"An error occurred: {e}\")\n",
    "\n",
    "wdg.show()\n",
    "\n",
    "app.exec_()\n"
   ]
  },
  {
   "cell_type": "markdown",
   "id": "8f8b24a5-0cb4-4b42-908d-37c5dd4b7e73",
   "metadata": {},
   "source": [
    "#### Acquisition of end position"
   ]
  },
  {
   "cell_type": "markdown",
   "id": "ae3bd8cd-1a78-4f25-9d09-9a78543f380b",
   "metadata": {},
   "source": [
    "The program obtains the initial position."
   ]
  },
  {
   "cell_type": "code",
   "execution_count": 10,
   "id": "4b9316ff-f18d-4db7-ada6-6fc8b29bfcd9",
   "metadata": {
    "scrolled": true
   },
   "outputs": [
    {
     "name": "stdout",
     "output_type": "stream",
     "text": [
      "New sampleStage position:  94.13977716683549\n",
      "New cameraStage position:  108.46476631457098\n",
      "sampleStage Distance:  45.955722760816094\n",
      "cameraStage Distance:  52.14874837216033\n"
     ]
    }
   ],
   "source": [
    "from pymmcore_plus import CMMCorePlus\n",
    "\n",
    "mmc = CMMCorePlus.instance()\n",
    "\n",
    "sampleEnd = mmc.getPosition(\"sampleStage\")\n",
    "cameraEnd = mmc.getPosition(\"cameraStage\")\n",
    "print(\"New sampleStage position: \", sampleEnd)\n",
    "print(\"New cameraStage position: \", cameraEnd)\n",
    "\n",
    "sampleDistance = sampleEnd - sampleStart\n",
    "cameraDistance = cameraEnd - cameraStart\n",
    "print(\"sampleStage Distance: \", sampleDistance)\n",
    "print(\"cameraStage Distance: \", cameraDistance)"
   ]
  },
  {
   "cell_type": "code",
   "execution_count": null,
   "id": "b1fab574-3be3-4b73-bd56-2904170e7892",
   "metadata": {},
   "outputs": [],
   "source": [
    "# https://pypi.org/project/pyKDC101/\n",
    "!pip install pyKDC101\n",
    "!pip install thorlabs-apt\n",
    "# \"C:\\Program Files\\Thorlabs\\APT\\APT Server\\APT.dll\"から'C:\\Users\\DBSB\\myenv\\lib\\site-packages\\thorlabs_apt\\APT.dll'にコピー"
   ]
  },
  {
   "cell_type": "code",
   "execution_count": null,
   "id": "68edb8da-0270-4caf-9d86-d102a06c03a8",
   "metadata": {},
   "outputs": [],
   "source": [
    "# pip install matplotlib\n",
    "# pip uninstall PyQt6"
   ]
  },
  {
   "cell_type": "markdown",
   "id": "0821b056-da16-4abd-9f52-7d9b09df4883",
   "metadata": {},
   "source": [
    "#### Calculate and set cameraSpeed from sampleSpeed and Distance"
   ]
  },
  {
   "cell_type": "code",
   "execution_count": null,
   "id": "ff6726dd-768e-45f1-ab3b-c2b117c34ffa",
   "metadata": {},
   "outputs": [],
   "source": [
    "from tkinter import Tk, Label, Entry, Button, Frame\n",
    "from ctypes import c_char_p, c_int\n",
    "\n",
    "def set_velocity(serial_num, velocity_mm_s):\n",
    "    global sampleSpeed, cameraSpeed\n",
    "\n",
    "    # Convert the velocity from mm/s to device units\n",
    "    velocity_device_unit = int(velocity_mm_s * 773000)  # Conversion formula based on provided information\n",
    "    \n",
    "    # Open the device\n",
    "    if lib.TLI_BuildDeviceList() == 0:\n",
    "        lib.CC_Open(serial_num)\n",
    "        lib.CC_StartPolling(serial_num, c_int(200))\n",
    "\n",
    "        # Set the velocity\n",
    "        lib.CC_SetVelParams(serial_num, 396, velocity_device_unit)\n",
    "\n",
    "        # Store the velocity in the appropriate global variable\n",
    "        if serial_num.value.decode() == \"27260577\":\n",
    "            sampleSpeed = velocity_mm_s\n",
    "            # Calculate cameraSpeed based on sampleSpeed\n",
    "            cameraSpeed = sampleSpeed / (sampleDistance / cameraDistance)\n",
    "            set_velocity(c_char_p(b\"27260136\"), cameraSpeed)  # Set velocity for the camera\n",
    "        elif serial_num.value.decode() == \"27260136\":\n",
    "            cameraSpeed = velocity_mm_s\n",
    "\n",
    "        # Close the device\n",
    "        lib.CC_Close(serial_num)\n",
    "    print(f\"Velocity set for {serial_num.value.decode()}\")\n",
    "\n",
    "# GUI setup\n",
    "root = Tk()\n",
    "root.title(\"Velocity Setter\")\n",
    "\n",
    "# Only Serial number for sampleStage\n",
    "serial_num, label = c_char_p(b\"27260577\"), \"sampleStage\"\n",
    "frame = Frame(root)\n",
    "frame.pack()\n",
    "\n",
    "Label(frame, text=f\"Enter Velocity for {label} ({serial_num.value.decode()}) (mm/s):\").pack(side=\"left\")\n",
    "velocity_entry = Entry(frame)\n",
    "velocity_entry.pack(side=\"left\")\n",
    "\n",
    "Button(frame, text=\"Set Velocity\", command=lambda: set_velocity(serial_num, float(velocity_entry.get()))).pack(side=\"right\")\n",
    "\n",
    "root.mainloop()\n"
   ]
  },
  {
   "cell_type": "markdown",
   "id": "9bfaf9c4",
   "metadata": {},
   "source": [
    "#### Check speed and distance traveled"
   ]
  },
  {
   "cell_type": "code",
   "execution_count": null,
   "id": "3560a925-80b4-476a-ae31-18b9f4532617",
   "metadata": {},
   "outputs": [],
   "source": [
    "class MotorControlApp:\n",
    "    def __init__(self, sampleSpeed, cameraSpeed, sampleStart, cameraStart, sampleEnd, cameraEnd):\n",
    "        self.sampleSpeed = float(sampleSpeed)\n",
    "        self.cameraSpeed = float(cameraSpeed)\n",
    "        self.sampleStart = float(sampleStart)\n",
    "        self.cameraStart = float(cameraStart)\n",
    "        self.sampleEnd = float(sampleEnd)\n",
    "        self.cameraEnd = float(cameraEnd)\n",
    "\n",
    "motorControlApp = MotorControlApp(sampleSpeed, cameraSpeed, sampleStart, cameraStart, sampleEnd, cameraEnd)\n",
    "\n",
    "sampleDistance = motorControlApp.sampleEnd - motorControlApp.sampleStart\n",
    "cameraDistance = motorControlApp.cameraEnd - motorControlApp.cameraStart\n",
    "\n",
    "if cameraDistance != 0:\n",
    "    print(\"Sample speed = \" + str(motorControlApp.sampleSpeed) + \" mm/s\")\n",
    "    print(\"Camera speed = \" + str(motorControlApp.cameraSpeed) + \" mm/s\")\n",
    "    print(\"The sample will move \" + str(sampleDistance) + \" mm\")\n",
    "    print(\"The camera will move \" + str(cameraDistance) + \" mm\")\n",
    "else:\n",
    "    print(\"Error: Camera distance is zero.\")"
   ]
  },
  {
   "cell_type": "markdown",
   "id": "48b49d79-4814-4b5e-8a2e-74f22c6bb8ca",
   "metadata": {},
   "source": [
    "#### Return the motor to the starting position."
   ]
  },
  {
   "cell_type": "code",
   "execution_count": null,
   "id": "b9b48975-ca10-4847-8747-41d15eca6005",
   "metadata": {},
   "outputs": [],
   "source": [
    "print(\"Available devices:\", mmc.getLoadedDevices())\n"
   ]
  },
  {
   "cell_type": "code",
   "execution_count": 13,
   "id": "c58bea6e-4a1c-46b1-883b-5f088de30fe2",
   "metadata": {
    "scrolled": true
   },
   "outputs": [
    {
     "name": "stdout",
     "output_type": "stream",
     "text": [
      "sampleStage returned to:  94.13977716683549\n",
      "cameraStage returned to:  108.46476631457098\n"
     ]
    }
   ],
   "source": [
    "mmc.loadSystemConfiguration(\"C:/Users/DBSB/Desktop/231221_stage_YN.cfg\")\n",
    "\n",
    "mmc.setPosition(\"sampleStage\", sampleStart)\n",
    "\n",
    "mmc.setPosition(\"cameraStage\", cameraStart)\n",
    "\n",
    "print(\"sampleStage is returning to sampleStart: \", mmc.getPosition(\"sampleStage\"))\n",
    "print(\"cameraStage is returning to cameraStart: \", mmc.getPosition(\"cameraStage\"))"
   ]
  },
  {
   "cell_type": "markdown",
   "id": "b18e8872",
   "metadata": {},
   "source": [
    "#### Calculate the number of shots"
   ]
  },
  {
   "cell_type": "markdown",
   "id": "639da4fd",
   "metadata": {},
   "source": [
    "Execute the following cell to confirm the number of shots. After confirming the number of shots, launch Multi-D Acq. and check the Time Points box in the upper left corner of the window, enter the calculated number of shots in the count box, and set interval to 0 mm/s. From the Image settings in Micro-Manger Home, set Exposure to 200 ms. Set Exposure to 200 ms."
   ]
  },
  {
   "cell_type": "code",
   "execution_count": 14,
   "id": "6698321c-546e-4b72-a774-1d7ab0bca3b3",
   "metadata": {
    "id": "6698321c-546e-4b72-a774-1d7ab0bca3b3"
   },
   "outputs": [
    {
     "name": "stdout",
     "output_type": "stream",
     "text": [
      "3829\n"
     ]
    }
   ],
   "source": [
    "images = sampleDistance/(0.24*sampleSpeed)\n",
    "print(int(images))"
   ]
  },
  {
   "cell_type": "markdown",
   "id": "25096a83",
   "metadata": {},
   "source": [
    "#### Execution of Shooting"
   ]
  },
  {
   "cell_type": "markdown",
   "id": "bf55ba96",
   "metadata": {},
   "source": [
    "With the following cell running, select Aquire on the Multi-D Acq. of the Micro-Manager; the selection is transmitted to the program via Arduino and the following cell is executed."
   ]
  },
  {
   "cell_type": "code",
   "execution_count": null,
   "id": "d36fb566-bd40-4174-b1ad-b794b069bd12",
   "metadata": {},
   "outputs": [],
   "source": [
    "import time\n",
    "import serial\n",
    "import threading\n",
    "from pymmcore_plus import CMMCorePlus\n",
    "\n",
    "# Initialize Serial Connection and CMMCorePlus\n",
    "COM = \"COM6\"\n",
    "bitRate = 19200\n",
    "ser = serial.Serial(COM, bitRate, timeout=1)\n",
    "mmc = CMMCorePlus.instance()\n",
    "\n",
    "config_file = \"C:/Users/DBSB/Desktop/231221_stage_YN.cfg\"\n",
    "mmc.loadSystemConfiguration(config_file)\n",
    "\n",
    "devices = mmc.getLoadedDevices()\n",
    "print(\"Loaded devices:\", devices)\n",
    "\n",
    "if \"sampleStage\" in devices and \"cameraStage\" in devices:\n",
    "    print(\"Both stages are loaded correctly.\")\n",
    "else:\n",
    "    print(\"Error: Stages not loaded. Check device configuration.\")\n",
    "\n",
    "def move_stage(stage_label, absolute_position):\n",
    "    try:\n",
    "        mmc.setPosition(stage_label, absolute_position)\n",
    "        mmc.waitForDevice(stage_label)\n",
    "        final_position = mmc.getPosition(stage_label)\n",
    "        print(f\"Moved {stage_label} to {final_position}\")\n",
    "    except Exception as e:\n",
    "        print(f\"Error moving {stage_label}: {e}\")\n",
    "\n",
    "def move_stages_simultaneously(sampleEnd, cameraEnd):\n",
    "    \n",
    "    threads = [\n",
    "        threading.Thread(target=move_stage, args=(\"sampleStage\", sampleEnd)),\n",
    "        threading.Thread(target=move_stage, args=(\"cameraStage\", cameraEnd))\n",
    "    ]\n",
    "\n",
    "    for thread in threads:\n",
    "        thread.start()\n",
    "\n",
    "    for thread in threads:\n",
    "        thread.join()\n",
    "\n",
    "def read_serial_and_move_stages():\n",
    "    while True:\n",
    "        data = ser.read(512)\n",
    "        pickup = data[0:1]\n",
    "        if pickup.decode(\"utf-8\") == \"1\":\n",
    "            print(\"Triggering stage movement...\")\n",
    "            move_stages_simultaneously(sampleEnd, cameraEnd)\n",
    "        elif pickup.decode(\"utf-8\") == \"0\":\n",
    "            print(\"Standby for movement\")\n",
    "        time.sleep(0.1)\n",
    "\n",
    "serial_thread = threading.Thread(target=read_serial_and_move_stages)\n",
    "serial_thread.daemon = True\n",
    "serial_thread.start()\n",
    "\n",
    "try:\n",
    "    while True:\n",
    "        time.sleep(1)\n",
    "except KeyboardInterrupt:\n",
    "    print(\"Program terminated\")\n"
   ]
  },
  {
   "cell_type": "markdown",
   "id": "6d15ddac-c8e6-437a-95aa-27a0e5f7e8f1",
   "metadata": {},
   "source": [
    "Press ■ from the top control bar of jupyter notebook to finish executing the above code. Specify the destination of the captured image from Micro-Manager and save it."
   ]
  }
 ],
 "metadata": {
  "colab": {
   "provenance": []
  },
  "kernelspec": {
   "display_name": "Python 3 (ipykernel)",
   "language": "python",
   "name": "python3"
  },
  "language_info": {
   "codemirror_mode": {
    "name": "ipython",
    "version": 3
   },
   "file_extension": ".py",
   "mimetype": "text/x-python",
   "name": "python",
   "nbconvert_exporter": "python",
   "pygments_lexer": "ipython3",
   "version": "3.10.9"
  }
 },
 "nbformat": 4,
 "nbformat_minor": 5
}
