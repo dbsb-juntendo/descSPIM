{
 "cells": [
  {
   "cell_type": "markdown",
   "id": "e364f928-9ce7-4dd1-9ee6-a815820609c0",
   "metadata": {
    "id": "e364f928-9ce7-4dd1-9ee6-a815820609c0"
   },
   "source": [
    "# descSPIM-Python\n",
    "This program is a control application for descSPIM in notebook format. By following the guide and launching Micro-Mnager, the program GUI, it is possible to control all devices at once.\n",
    "\n",
    "By using this program, the following objectives can be achieved\n",
    "\n",
    "・Automation of imaging\n",
    "\n",
    "・Ensure reproducibility of imaging (reduction of manual errors)\n",
    "\n",
    "\n",
    "\n",
    "#### 1. confirmation items\n",
    "After completing the setup according to the installation guide, run the cells in order to confirm the installation contents. 2.\n",
    "\n",
    "#### 2. control program\n",
    "After confirming 1. above, run the cells according to the guide to enable imaging according to your purpose."
   ]
  },
  {
   "cell_type": "markdown",
   "id": "f6239f10-5daa-4b4d-96b4-c06f04a8807b",
   "metadata": {},
   "source": [
    "# 2. Control Program"
   ]
  },
  {
   "cell_type": "markdown",
   "id": "95bf099b-cc70-4409-908c-67f6f8df9ee4",
   "metadata": {},
   "source": [
    "#### Install Thorlabs related dll files"
   ]
  },
  {
   "cell_type": "code",
   "execution_count": 1,
   "id": "8ebf1cfd",
   "metadata": {
    "id": "8ebf1cfd",
    "outputId": "6d01a24f-8ba4-4169-e337-6c380551b412"
   },
   "outputs": [
    {
     "name": "stdout",
     "output_type": "stream",
     "text": [
      "System.Collections.Generic.List`1[System.String]\n"
     ]
    }
   ],
   "source": [
    "import clr\n",
    "clr.AddReference(\"C:\\\\Program Files\\\\Thorlabs\\\\Kinesis\\\\Thorlabs.MotionControl.DeviceManagerCLI.dll\")\n",
    "clr.AddReference(\"C:\\\\Program Files\\\\Thorlabs\\\\Kinesis\\\\Thorlabs.MotionControl.GenericMotorCLI.dll\")\n",
    "clr.AddReference(\"C:\\\\Program Files\\\\Thorlabs\\\\Kinesis\\\\ThorLabs.MotionControl.KCube.StepperMotorCLI.dll\")\n",
    "clr.AddReference(\"C:\\Program Files\\Thorlabs\\Kinesis\\ThorLabs.MotionControl.KCube.DCServoCLI.dll\")\n",
    "clr.AddReference(\"C:\\Program Files\\Thorlabs\\Kinesis\\Thorlabs.MotionControl.KCube.StepperMotorCLI.dll\")\n",
    "\n",
    "from Thorlabs.MotionControl.DeviceManagerCLI import *\n",
    "from Thorlabs.MotionControl.GenericMotorCLI import *\n",
    "from Thorlabs.MotionControl.GenericMotorCLI.ControlParameters import *\n",
    "from Thorlabs.MotionControl.GenericMotorCLI.AdvancedMotor import *\n",
    "from Thorlabs.MotionControl.GenericMotorCLI.Settings import *\n",
    "from Thorlabs.MotionControl.KCube.DCServoCLI import *\n",
    "from Thorlabs.MotionControl.KCube.StepperMotorCLI import *\n",
    "\n",
    "DeviceManagerCLI.BuildDeviceList()\n",
    "devices = DeviceManagerCLI.GetDeviceList()\n",
    "print(devices)"
   ]
  },
  {
   "cell_type": "markdown",
   "id": "e9186a68-5f49-4d93-9426-e56953ad84c7",
   "metadata": {},
   "source": [
    "#### Other Installations"
   ]
  },
  {
   "cell_type": "code",
   "execution_count": 2,
   "id": "eaa816aa-eea3-4865-9043-9f0ea542ae98",
   "metadata": {},
   "outputs": [],
   "source": [
    "import time\n",
    "import os\n",
    "import sys\n",
    "import hid # Library for USB Devices\n",
    "import math\n",
    "import datetime\n",
    "import clr #pythonnet\n",
    "from ctypes import *\n",
    "from pymmcore_plus import CMMCorePlus, DeviceType\n",
    "from qtpy.QtWidgets import QApplication, QGroupBox, QHBoxLayout, QWidget\n",
    "from pymmcore_widgets import StageWidget\n",
    "from pymmcore_plus import CMMCorePlus"
   ]
  },
  {
   "cell_type": "markdown",
   "id": "71a3a6c0-3ea7-4827-91aa-272872997138",
   "metadata": {},
   "source": [
    "#### Loading batch file and launching Micro-Manger"
   ]
  },
  {
   "cell_type": "markdown",
   "id": "dad57882-0f9b-4efb-92c3-8b639192edad",
   "metadata": {},
   "source": [
    "In Micro-Manager, select the batch file in the same path as the cell below and proceed to the next step."
   ]
  },
  {
   "cell_type": "code",
   "execution_count": 3,
   "id": "aaeb8459-5429-44b7-93b3-0969b7f3cac4",
   "metadata": {},
   "outputs": [
    {
     "data": {
      "text/plain": [
       "<Popen: returncode: None args: 'C:/Users/DBSB/Desktop/231221_batch_camera_YN...>"
      ]
     },
     "execution_count": 3,
     "metadata": {},
     "output_type": "execute_result"
    }
   ],
   "source": [
    "import subprocess\n",
    "\n",
    "batch_file = r\"C:/Users/DBSB/Desktop/231221_batch_camera_YN.bat\"\n",
    "\n",
    "subprocess.Popen(batch_file, shell=True)"
   ]
  },
  {
   "cell_type": "markdown",
   "id": "6005c4b2-4321-45e4-bf9f-5bf423e6aedb",
   "metadata": {},
   "source": [
    "If the above code does not get you up and running, try the following (Otherwise, skip it.)"
   ]
  },
  {
   "cell_type": "code",
   "execution_count": 4,
   "id": "4ea46c86-361b-47a0-8d46-bd38a7a9f89f",
   "metadata": {},
   "outputs": [],
   "source": [
    "# !\"C:/Users/DBSB/Downloads/231220_batch_34555.bat\""
   ]
  },
  {
   "cell_type": "markdown",
   "id": "9ef03e05-182c-41ba-a22e-2945a46bc484",
   "metadata": {},
   "source": [
    "#### Initialize the Thorlabs Kinesis library"
   ]
  },
  {
   "cell_type": "markdown",
   "id": "f35da59a-8aad-4a5e-8394-2174d9a0ccdb",
   "metadata": {},
   "source": [
    "The following cells should be executed only once and then not re-run."
   ]
  },
  {
   "cell_type": "code",
   "execution_count": 3,
   "id": "ba7ed2fc-a03a-4078-b529-27a4f9e8fbf7",
   "metadata": {},
   "outputs": [],
   "source": [
    "import sys\n",
    "import os\n",
    "from ctypes import cdll\n",
    "\n",
    "if sys.version_info < (3, 8):\n",
    "    os.chdir(r\"C:\\Program Files\\Thorlabs\\Kinesis\")\n",
    "else:\n",
    "    os.add_dll_directory(r\"C:\\Program Files\\Thorlabs\\Kinesis\")\n",
    "\n",
    "lib = cdll.LoadLibrary(\"Thorlabs.MotionControl.KCube.DCServo.dll\")"
   ]
  },
  {
   "cell_type": "markdown",
   "id": "ac1dded8-1556-4518-8df7-1d6bcaffe10a",
   "metadata": {},
   "source": [
    "#### Homing of two stages"
   ]
  },
  {
   "cell_type": "markdown",
   "id": "522eb905-3398-4d7f-8bef-86133bfc4f03",
   "metadata": {},
   "source": [
    "Allow 60 seconds for the motor to return to home (default 0 point); check the numerical display of the motor on the KDC101 to confirm that it has returned to 0.0000 mm. *If the motor does not return to home within 60 seconds, increase the maximum waiting time (in seconds) for completion of homing at any time."
   ]
  },
  {
   "cell_type": "code",
   "execution_count": 4,
   "id": "fb1982ab-4537-43c9-964c-17c3682a2b66",
   "metadata": {},
   "outputs": [
    {
     "name": "stdout",
     "output_type": "stream",
     "text": [
      "Sample stage homed. Current position:  520.0115757488063\n",
      "Camera stage homed. Current position:  630.2127043843149\n"
     ]
    }
   ],
   "source": [
    "from PyQt5.QtCore import QThread\n",
    "from pymmcore_plus import CMMCorePlus\n",
    "import time\n",
    "\n",
    "class HomingThread(QThread):\n",
    "    def __init__(self, mmc, max_wait_time):\n",
    "        QThread.__init__(self)\n",
    "        self.mmc = mmc\n",
    "        self.max_wait_time = max_wait_time\n",
    "\n",
    "    def run(self):\n",
    "        try:\n",
    "            self.mmc.home(\"sampleStage\")\n",
    "            self.mmc.home(\"cameraStage\")\n",
    "\n",
    "            start_time = time.time()\n",
    "            while time.time() - start_time < self.max_wait_time:\n",
    "                sample_position = self.mmc.getPosition(\"sampleStage\")\n",
    "                camera_position = self.mmc.getPosition(\"cameraStage\")\n",
    "                if sample_position == self.mmc.getPosition(\"sampleStage\") and camera_position == self.mmc.getPosition(\"cameraStage\"):\n",
    "                    break\n",
    "                time.sleep(0.1)\n",
    "\n",
    "            print(\"Sample stage homed. Current position: \", self.mmc.getPosition(\"sampleStage\"))\n",
    "            print(\"Camera stage homed. Current position: \", self.mmc.getPosition(\"cameraStage\"))\n",
    "        except Exception as e:\n",
    "            print(\"An error occurred:\", e)\n",
    "\n",
    "mmc = CMMCorePlus().instance()\n",
    "mmc.loadSystemConfiguration(\"C:/Users/DBSB/Desktop/231221_stage_YN.cfg\")\n",
    "homing_thread = HomingThread(mmc, 60)\n",
    "homing_thread.start()"
   ]
  },
  {
   "cell_type": "markdown",
   "id": "2a79852f-efa9-4f12-b9db-1dcff13999e2",
   "metadata": {},
   "source": [
    "#### First, both motors are set to Vel: 1 mm/s, Acc: 2 mm/s^2 for alignment."
   ]
  },
  {
   "cell_type": "code",
   "execution_count": 5,
   "id": "226c97ac-cad3-4ea7-b34a-12642fde68ed",
   "metadata": {},
   "outputs": [],
   "source": [
    "# See: https://optomechs.com/pdf/manuals/KDC101/KDC101_ManualforAPT.pdf"
   ]
  },
  {
   "cell_type": "markdown",
   "id": "5ab49853-6fcd-4330-859e-d518c457280b",
   "metadata": {},
   "source": [
    "  lib.CC_SetVelParams(serial_num, 396, 773000)における396, 773000はdevice unitに合わせて決定されるものであり、kinesis applicationから確認できる。"
   ]
  },
  {
   "cell_type": "code",
   "execution_count": 5,
   "id": "b0852b86-aec6-45f2-9a8e-0235350d1ab2",
   "metadata": {},
   "outputs": [
    {
     "name": "stdout",
     "output_type": "stream",
     "text": [
      "Velocity set for both motors\n"
     ]
    }
   ],
   "source": [
    "from ctypes import c_char_p, c_int\n",
    "\n",
    "# Assuming 'lib' is already defined and appropriate functions are loaded from the DLL\n",
    "\n",
    "# Serial numbers for the two motors\n",
    "serial_nums = [c_char_p(b\"27260577\"), c_char_p(b\"27260136\")]\n",
    "\n",
    "# Iterate through each serial number to set the velocity\n",
    "for serial_num in serial_nums:\n",
    "    # Open the device\n",
    "    if lib.TLI_BuildDeviceList() == 0:\n",
    "        lib.CC_Open(serial_num)\n",
    "        lib.CC_StartPolling(serial_num, c_int(200))\n",
    "\n",
    "        # Set the velocity\n",
    "        lib.CC_SetVelParams(serial_num, 396, 773000)\n",
    "\n",
    "        # Close the device\n",
    "        lib.CC_Close(serial_num)\n",
    "\n",
    "print(\"Velocity set for both motors\")\n"
   ]
  },
  {
   "cell_type": "markdown",
   "id": "bc474a29-43ff-4551-9b9a-a19f0540a703",
   "metadata": {},
   "source": [
    "#### Alignment determination by arbitrary speed (for more detailed alignment)"
   ]
  },
  {
   "cell_type": "markdown",
   "id": "031386a8-8f0c-4251-8a7d-5a3b4011073f",
   "metadata": {},
   "source": [
    "In this cell, you can enter any speed in the text box in the GUI. This cell is used when you want to speed up or slow down the speed from the upper cell to determine a finer alignment.\n",
    "You may use this cell from the beginning to freely determine the speed."
   ]
  },
  {
   "cell_type": "code",
   "execution_count": 7,
   "id": "771bd1d1-f42f-4bef-baf8-568612853aa2",
   "metadata": {},
   "outputs": [
    {
     "name": "stdout",
     "output_type": "stream",
     "text": [
      "Velocity set for 27260577\n",
      "Velocity set for 27260136\n"
     ]
    }
   ],
   "source": [
    "from tkinter import Tk, Label, Entry, Button, Frame\n",
    "from ctypes import c_char_p, c_int\n",
    "\n",
    "# Assuming 'lib' is already defined and appropriate functions are loaded from the DLL\n",
    "\n",
    "def set_velocity(serial_num, velocity_entry):\n",
    "    velocity_mm_s = float(velocity_entry.get())\n",
    "    # Convert the velocity from mm/s to device units\n",
    "    velocity_device_unit = int(velocity_mm_s * 773000)  # Conversion formula based on provided information\n",
    "    \n",
    "    # Open the device\n",
    "    if lib.TLI_BuildDeviceList() == 0:\n",
    "        lib.CC_Open(serial_num)\n",
    "        lib.CC_StartPolling(serial_num, c_int(200))\n",
    "\n",
    "        # Set the velocity\n",
    "        lib.CC_SetVelParams(serial_num, 396, velocity_device_unit)\n",
    "\n",
    "        # Close the device\n",
    "        lib.CC_Close(serial_num)\n",
    "    print(f\"Velocity set for {serial_num.value.decode()}\")\n",
    "\n",
    "# GUI setup\n",
    "root = Tk()\n",
    "root.title(\"Velocity Setter\")\n",
    "\n",
    "# Serial numbers and their labels\n",
    "motor_info = [(c_char_p(b\"27260577\"), \"sampleStage\"), (c_char_p(b\"27260136\"), \"cameraStage\")]\n",
    "\n",
    "for serial_num, label in motor_info:\n",
    "    frame = Frame(root)\n",
    "    frame.pack()\n",
    "\n",
    "    Label(frame, text=f\"Enter Velocity for {label} ({serial_num.value.decode()}) (mm/s):\").pack(side=\"left\")\n",
    "    velocity_entry = Entry(frame)\n",
    "    velocity_entry.pack(side=\"left\")\n",
    "    \n",
    "    Button(frame, text=\"Set Velocity\", command=lambda s=serial_num, v=velocity_entry: set_velocity(s, v)).pack(side=\"right\")\n",
    "\n",
    "root.mainloop()\n"
   ]
  },
  {
   "cell_type": "markdown",
   "id": "b85001a7-4ff3-48ac-894b-16a1831b834b",
   "metadata": {},
   "source": [
    "#### Move the stage to an arbitrary z position(start position)"
   ]
  },
  {
   "cell_type": "code",
   "execution_count": null,
   "id": "780d4390-2662-4bdf-912b-70cb2d326c45",
   "metadata": {},
   "outputs": [],
   "source": [
    "from PyQt5.QtWidgets import QApplication, QWidget, QVBoxLayout, QHBoxLayout, QLabel, QLineEdit, QPushButton\n",
    "from pymmcore_plus import CMMCorePlus\n",
    "\n",
    "class StageControlApp(QWidget):\n",
    "    def __init__(self, mmc):\n",
    "        super().__init__()\n",
    "        self.mmc = mmc\n",
    "        self.initUI()\n",
    "\n",
    "    def initUI(self):\n",
    "        self.setWindowTitle('Stage Control')\n",
    "\n",
    "        layout = QVBoxLayout()\n",
    "\n",
    "        self.sampleStart = self.mmc.getPosition(\"sampleStage\")\n",
    "        self.cameraStart = self.mmc.getPosition(\"cameraStage\")\n",
    "\n",
    "        self.sampleStartLabel = QLabel(f\"Initial sampleStage position: {self.sampleStart}\")\n",
    "        self.sampleEndLabel = QLabel(\"\")\n",
    "        self.cameraStartLabel = QLabel(f\"Initial cameraStage position: {self.cameraStart}\")\n",
    "        self.cameraEndLabel = QLabel(\"\")\n",
    "\n",
    "        self.sampleEntry = QLineEdit()\n",
    "        self.cameraEntry = QLineEdit()\n",
    "\n",
    "        moveButton = QPushButton(\"Move Stages\")\n",
    "        moveButton.clicked.connect(self.move_stages)\n",
    "\n",
    "        layout.addWidget(self.sampleStartLabel)\n",
    "        layout.addWidget(self.sampleEntry)\n",
    "        layout.addWidget(self.sampleEndLabel)\n",
    "        layout.addWidget(self.cameraStartLabel)\n",
    "        layout.addWidget(self.cameraEntry)\n",
    "        layout.addWidget(self.cameraEndLabel)\n",
    "        layout.addWidget(moveButton)\n",
    "\n",
    "        self.setLayout(layout)\n",
    "\n",
    "    def move_stages(self):\n",
    "        try:\n",
    "            newSamplePosition = float(self.sampleEntry.text())\n",
    "            newCameraPosition = float(self.cameraEntry.text())\n",
    "\n",
    "            self.mmc.setPosition(\"sampleStage\", newSamplePosition)\n",
    "            self.mmc.setPosition(\"cameraStage\", newCameraPosition)\n",
    "\n",
    "            sampleEnd = self.mmc.getPosition(\"sampleStage\")\n",
    "            cameraEnd = self.mmc.getPosition(\"cameraStage\")\n",
    "\n",
    "            self.sampleEndLabel.setText(f\"Final sampleStage position: {sampleEnd}\")\n",
    "            self.cameraEndLabel.setText(f\"Final cameraStage position: {cameraEnd}\")\n",
    "        except ValueError:\n",
    "            self.sampleEndLabel.setText(\"Invalid input. Please enter a numeric value.\")\n",
    "            self.cameraEndLabel.setText(\"Invalid input. Please enter a numeric value.\")\n",
    "\n",
    "def main():\n",
    "    app = QApplication([])\n",
    "\n",
    "    mmc = CMMCorePlus.instance()\n",
    "    config_file = \"C:/Users/DBSB/Desktop/231221_stage_YN.cfg\"\n",
    "    mmc.loadSystemConfiguration(config_file)\n",
    "\n",
    "    stageControlApp = StageControlApp(mmc)\n",
    "    stageControlApp.show()\n",
    "\n",
    "    app.exec()\n",
    "\n",
    "if __name__ == '__main__':\n",
    "    main()\n"
   ]
  },
  {
   "cell_type": "markdown",
   "id": "0f4d2b3c-be3d-4d64-b2ce-02fcf5f965e7",
   "metadata": {},
   "source": [
    "### Acquisition of start position"
   ]
  },
  {
   "cell_type": "markdown",
   "id": "951ac335-0f39-47cd-ba1b-71d05c038ddb",
   "metadata": {},
   "source": [
    "The program acquires the initial position."
   ]
  },
  {
   "cell_type": "code",
   "execution_count": 9,
   "id": "c8376502-d427-4cb0-beb5-0cdf1443b197",
   "metadata": {
    "scrolled": true
   },
   "outputs": [
    {
     "name": "stdout",
     "output_type": "stream",
     "text": [
      "Initial sampleStage position:  300.0144696860078\n",
      "Initial cameraStage position:  400.0\n"
     ]
    }
   ],
   "source": [
    "mmc = CMMCorePlus.instance()\n",
    "\n",
    "sampleStart = mmc.getPosition(\"sampleStage\")\n",
    "cameraStart = mmc.getPosition(\"cameraStage\")\n",
    "print(\"Initial sampleStage position: \", sampleStart)\n",
    "print(\"Initial cameraStage position: \", cameraStart)"
   ]
  },
  {
   "cell_type": "markdown",
   "id": "94c62bce-1e0f-4039-a363-a70fecbaace6",
   "metadata": {},
   "source": [
    "#### Move the stage to an arbitrary z position(End position)"
   ]
  },
  {
   "cell_type": "code",
   "execution_count": 10,
   "id": "2fa34fd2-16f9-4c9f-a6d6-38a8b98b6dc6",
   "metadata": {},
   "outputs": [],
   "source": [
    "import tkinter as tk\n",
    "from tkinter import Entry, Button, Label\n",
    "\n",
    "mmc = CMMCorePlus.instance()\n",
    "\n",
    "sampleStart = mmc.getPosition(\"sampleStage\")\n",
    "cameraStart = mmc.getPosition(\"cameraStage\")\n",
    "\n",
    "def move_stages():\n",
    "    try:\n",
    "        newSamplePosition = float(sampleEntry.get())\n",
    "        newCameraPosition = float(cameraEntry.get())\n",
    "\n",
    "        mmc.setPosition(\"sampleStage\", newSamplePosition)\n",
    "        mmc.setPosition(\"cameraStage\", newCameraPosition)\n",
    "\n",
    "        sampleEnd = mmc.getPosition(\"sampleStage\")\n",
    "        cameraEnd = mmc.getPosition(\"cameraStage\")\n",
    "\n",
    "        sampleEndLabel.config(text=\"Final sampleStage position: \" + str(sampleEnd))\n",
    "        cameraEndLabel.config(text=\"Final cameraStage position: \" + str(cameraEnd))\n",
    "    except ValueError:\n",
    "        sampleEndLabel.config(text=\"Invalid input. Please enter a numeric value.\")\n",
    "        cameraEndLabel.config(text=\"Invalid input. Please enter a numeric value.\")\n",
    "\n",
    "root = tk.Tk()\n",
    "root.title(\"Stage Control\")\n",
    "\n",
    "sampleStartLabel = Label(root, text=\"Initial sampleStage position: \" + str(sampleStart))\n",
    "sampleEndLabel = Label(root, text=\"\")\n",
    "cameraStartLabel = Label(root, text=\"Initial cameraStage position: \" + str(cameraStart))\n",
    "cameraEndLabel = Label(root, text=\"\")\n",
    "\n",
    "sampleEntryLabel = Label(root, text=\"Enter new sampleStage position:\")\n",
    "sampleEntry = Entry(root)\n",
    "cameraEntryLabel = Label(root, text=\"Enter new cameraStage position:\")\n",
    "cameraEntry = Entry(root)\n",
    "\n",
    "moveButton = Button(root, text=\"Move Stages\", command=move_stages)\n",
    "\n",
    "sampleStartLabel.pack()\n",
    "sampleEndLabel.pack()\n",
    "sampleEntryLabel.pack()\n",
    "sampleEntry.pack()\n",
    "cameraStartLabel.pack()\n",
    "cameraEndLabel.pack()\n",
    "cameraEntryLabel.pack()\n",
    "cameraEntry.pack()\n",
    "moveButton.pack()\n",
    "\n",
    "root.mainloop()"
   ]
  },
  {
   "cell_type": "markdown",
   "id": "8f8b24a5-0cb4-4b42-908d-37c5dd4b7e73",
   "metadata": {},
   "source": [
    "#### Acquisition of end position"
   ]
  },
  {
   "cell_type": "markdown",
   "id": "ae3bd8cd-1a78-4f25-9d09-9a78543f380b",
   "metadata": {},
   "source": [
    "The program obtains the initial position."
   ]
  },
  {
   "cell_type": "code",
   "execution_count": 11,
   "id": "4b9316ff-f18d-4db7-ada6-6fc8b29bfcd9",
   "metadata": {
    "scrolled": true
   },
   "outputs": [
    {
     "name": "stdout",
     "output_type": "stream",
     "text": [
      "New sampleStage position:  500.0144696860078\n",
      "New cameraStage position:  700.0144696860078\n"
     ]
    }
   ],
   "source": [
    "from pymmcore_plus import CMMCorePlus\n",
    "\n",
    "mmc = CMMCorePlus.instance()\n",
    "\n",
    "sampleEnd = mmc.getPosition(\"sampleStage\")\n",
    "cameraEnd = mmc.getPosition(\"cameraStage\")\n",
    "print(\"New sampleStage position: \", sampleEnd)\n",
    "print(\"New cameraStage position: \", cameraEnd)"
   ]
  },
  {
   "cell_type": "code",
   "execution_count": 12,
   "id": "b1fab574-3be3-4b73-bd56-2904170e7892",
   "metadata": {},
   "outputs": [
    {
     "name": "stdout",
     "output_type": "stream",
     "text": [
      "Requirement already satisfied: pyKDC101 in c:\\users\\dbsb\\myenv\\lib\\site-packages (0.22)\n",
      "Requirement already satisfied: thorlabs-apt in c:\\users\\dbsb\\myenv\\lib\\site-packages (0.2)\n"
     ]
    }
   ],
   "source": [
    "# https://pypi.org/project/pyKDC101/\n",
    "!pip install pyKDC101\n",
    "!pip install thorlabs-apt\n",
    "# \"C:\\Program Files\\Thorlabs\\APT\\APT Server\\APT.dll\"から'C:\\Users\\DBSB\\myenv\\lib\\site-packages\\thorlabs_apt\\APT.dll'にコピー"
   ]
  },
  {
   "cell_type": "code",
   "execution_count": null,
   "id": "68edb8da-0270-4caf-9d86-d102a06c03a8",
   "metadata": {},
   "outputs": [],
   "source": [
    "# pip install matplotlib\n",
    "# pip uninstall PyQt6"
   ]
  },
  {
   "cell_type": "markdown",
   "id": "a0edc261-bba0-46e5-a487-3f5422129d00",
   "metadata": {},
   "source": [
    "#### Calculate and set cameraSpeed from sampleSpeed and Distance"
   ]
  },
  {
   "cell_type": "code",
   "execution_count": null,
   "id": "eabe0825-cc78-4008-989e-59435811e300",
   "metadata": {},
   "outputs": [],
   "source": [
    "from tkinter import Tk, Label, Entry, Button, Frame\n",
    "from ctypes import c_char_p, c_int\n",
    "\n",
    "def set_velocity(serial_num, velocity_mm_s):\n",
    "    global sampleSpeed, cameraSpeed\n",
    "\n",
    "    # Convert the velocity from mm/s to device units\n",
    "    velocity_device_unit = int(velocity_mm_s * 773000)  # Conversion formula based on provided information\n",
    "    \n",
    "    # Open the device\n",
    "    if lib.TLI_BuildDeviceList() == 0:\n",
    "        lib.CC_Open(serial_num)\n",
    "        lib.CC_StartPolling(serial_num, c_int(200))\n",
    "\n",
    "        # Set the velocity\n",
    "        lib.CC_SetVelParams(serial_num, 396, velocity_device_unit)\n",
    "\n",
    "        # Store the velocity in the appropriate global variable\n",
    "        if serial_num.value.decode() == \"27260577\":\n",
    "            sampleSpeed = velocity_mm_s\n",
    "            # Calculate cameraSpeed based on sampleSpeed\n",
    "            cameraSpeed = sampleSpeed / (sampleDistance / cameraDistance)\n",
    "            set_velocity(c_char_p(b\"27260136\"), cameraSpeed)  # Set velocity for the camera\n",
    "        elif serial_num.value.decode() == \"27260136\":\n",
    "            cameraSpeed = velocity_mm_s\n",
    "\n",
    "        # Close the device\n",
    "        lib.CC_Close(serial_num)\n",
    "    print(f\"Velocity set for {serial_num.value.decode()}\")\n",
    "\n",
    "# GUI setup\n",
    "root = Tk()\n",
    "root.title(\"Velocity Setter\")\n",
    "\n",
    "# Only Serial number for sampleStage\n",
    "serial_num, label = c_char_p(b\"27260577\"), \"sampleStage\"\n",
    "frame = Frame(root)\n",
    "frame.pack()\n",
    "\n",
    "Label(frame, text=f\"Enter Velocity for {label} ({serial_num.value.decode()}) (mm/s):\").pack(side=\"left\")\n",
    "velocity_entry = Entry(frame)\n",
    "velocity_entry.pack(side=\"left\")\n",
    "\n",
    "Button(frame, text=\"Set Velocity\", command=lambda: set_velocity(serial_num, float(velocity_entry.get()))).pack(side=\"right\")\n",
    "\n",
    "root.mainloop()\n"
   ]
  },
  {
   "cell_type": "markdown",
   "id": "32493374-b284-4a74-9d9d-4fc56a3eeb4a",
   "metadata": {},
   "source": [
    "#### GUI to specify speed (for specifying 2 units arbitrarily)"
   ]
  },
  {
   "cell_type": "markdown",
   "id": "a14888d1-b25e-486c-8772-ff8545a3ec35",
   "metadata": {},
   "source": [
    "When cameraSpeed is automatically obtained from the distance traveled and sampleSpeed, the following cells are not executed."
   ]
  },
  {
   "cell_type": "code",
   "execution_count": 1,
   "id": "836ed4b4-08ec-4194-980b-cd236bdf2cfc",
   "metadata": {},
   "outputs": [],
   "source": [
    "from tkinter import Tk, Label, Entry, Button, Frame\n",
    "from ctypes import c_char_p, c_int\n",
    "\n",
    "# Assuming 'lib' is already defined and appropriate functions are loaded from the DLL\n",
    "\n",
    "# Global variables to store speeds\n",
    "sampleSpeed = 0\n",
    "cameraSpeed = 0\n",
    "\n",
    "def set_velocity(serial_num, velocity_entry):\n",
    "    global sampleSpeed, cameraSpeed\n",
    "\n",
    "    velocity_mm_s = float(velocity_entry.get())\n",
    "    # Convert the velocity from mm/s to device units\n",
    "    velocity_device_unit = int(velocity_mm_s * 773000)  # Conversion formula based on provided information\n",
    "    \n",
    "    # Open the device\n",
    "    if lib.TLI_BuildDeviceList() == 0:\n",
    "        lib.CC_Open(serial_num)\n",
    "        lib.CC_StartPolling(serial_num, c_int(200))\n",
    "\n",
    "        # Set the velocity\n",
    "        lib.CC_SetVelParams(serial_num, 396, velocity_device_unit)\n",
    "\n",
    "        # Store the velocity in the appropriate global variable\n",
    "        if serial_num.value.decode() == \"27260577\":\n",
    "            sampleSpeed = velocity_mm_s\n",
    "        elif serial_num.value.decode() == \"27260136\":\n",
    "            cameraSpeed = velocity_mm_s\n",
    "\n",
    "        # Close the device\n",
    "        lib.CC_Close(serial_num)\n",
    "    print(f\"Velocity set for {serial_num.value.decode()}\")\n",
    "\n",
    "# GUI setup\n",
    "root = Tk()\n",
    "root.title(\"Velocity Setter\")\n",
    "\n",
    "# Serial numbers and their labels\n",
    "motor_info = [(c_char_p(b\"27260577\"), \"sampleStage\"), (c_char_p(b\"27260136\"), \"cameraStage\")]\n",
    "\n",
    "for serial_num, label in motor_info:\n",
    "    frame = Frame(root)\n",
    "    frame.pack()\n",
    "\n",
    "    Label(frame, text=f\"Enter Velocity for {label} ({serial_num.value.decode()}) (mm/s):\").pack(side=\"left\")\n",
    "    velocity_entry = Entry(frame)\n",
    "    velocity_entry.pack(side=\"left\")\n",
    "    \n",
    "    Button(frame, text=\"Set Velocity\", command=lambda s=serial_num, v=velocity_entry: set_velocity(s, v)).pack(side=\"right\")\n",
    "\n",
    "root.mainloop()\n"
   ]
  },
  {
   "cell_type": "markdown",
   "id": "9bfaf9c4",
   "metadata": {},
   "source": [
    "#### Check speed and distance traveled"
   ]
  },
  {
   "cell_type": "code",
   "execution_count": 2,
   "id": "3560a925-80b4-476a-ae31-18b9f4532617",
   "metadata": {},
   "outputs": [
    {
     "ename": "NameError",
     "evalue": "name 'sampleStart' is not defined",
     "output_type": "error",
     "traceback": [
      "\u001b[1;31m---------------------------------------------------------------------------\u001b[0m",
      "\u001b[1;31mNameError\u001b[0m                                 Traceback (most recent call last)",
      "Cell \u001b[1;32mIn[2], line 11\u001b[0m\n\u001b[0;32m      8\u001b[0m         \u001b[38;5;28mself\u001b[39m\u001b[38;5;241m.\u001b[39msampleEnd \u001b[38;5;241m=\u001b[39m \u001b[38;5;28mfloat\u001b[39m(sampleEnd)\n\u001b[0;32m      9\u001b[0m         \u001b[38;5;28mself\u001b[39m\u001b[38;5;241m.\u001b[39mcameraEnd \u001b[38;5;241m=\u001b[39m \u001b[38;5;28mfloat\u001b[39m(cameraEnd)\n\u001b[1;32m---> 11\u001b[0m motorControlApp \u001b[38;5;241m=\u001b[39m MotorControlApp(sampleSpeed, cameraSpeed, \u001b[43msampleStart\u001b[49m, cameraStart, sampleEnd, cameraEnd)\n\u001b[0;32m     13\u001b[0m \u001b[38;5;66;03m# サンプルとカメラの距離を計算\u001b[39;00m\n\u001b[0;32m     14\u001b[0m sampleDistance \u001b[38;5;241m=\u001b[39m motorControlApp\u001b[38;5;241m.\u001b[39msampleEnd \u001b[38;5;241m-\u001b[39m motorControlApp\u001b[38;5;241m.\u001b[39msampleStart\n",
      "\u001b[1;31mNameError\u001b[0m: name 'sampleStart' is not defined"
     ]
    }
   ],
   "source": [
    "class MotorControlApp:\n",
    "    def __init__(self, sampleSpeed, cameraSpeed, sampleStart, cameraStart, sampleEnd, cameraEnd):\n",
    "        self.sampleSpeed = float(sampleSpeed)\n",
    "        self.cameraSpeed = float(cameraSpeed)\n",
    "        self.sampleStart = float(sampleStart)\n",
    "        self.cameraStart = float(cameraStart)\n",
    "        self.sampleEnd = float(sampleEnd)\n",
    "        self.cameraEnd = float(cameraEnd)\n",
    "\n",
    "motorControlApp = MotorControlApp(sampleSpeed, cameraSpeed, sampleStart, cameraStart, sampleEnd, cameraEnd)\n",
    "\n",
    "sampleDistance = motorControlApp.sampleEnd - motorControlApp.sampleStart\n",
    "cameraDistance = motorControlApp.cameraEnd - motorControlApp.cameraStart\n",
    "\n",
    "if cameraDistance != 0:\n",
    "    print(\"Sample speed = \" + str(motorControlApp.sampleSpeed) + \" mm/s\")\n",
    "    print(\"Camera speed = \" + str(motorControlApp.cameraSpeed) + \" mm/s\")\n",
    "    print(\"The sample will move \" + str(sampleDistance) + \" mm\")\n",
    "    print(\"The camera will move \" + str(cameraDistance) + \" mm\")\n",
    "else:\n",
    "    print(\"Error: Camera distance is zero.\")"
   ]
  },
  {
   "cell_type": "markdown",
   "id": "48b49d79-4814-4b5e-8a2e-74f22c6bb8ca",
   "metadata": {},
   "source": [
    "####  Return the motor to the starting position."
   ]
  },
  {
   "cell_type": "code",
   "execution_count": null,
   "id": "b9b48975-ca10-4847-8747-41d15eca6005",
   "metadata": {},
   "outputs": [],
   "source": [
    "print(\"Available devices:\", mmc.getLoadedDevices())\n"
   ]
  },
  {
   "cell_type": "code",
   "execution_count": 15,
   "id": "c58bea6e-4a1c-46b1-883b-5f088de30fe2",
   "metadata": {
    "scrolled": true
   },
   "outputs": [
    {
     "name": "stdout",
     "output_type": "stream",
     "text": [
      "sampleStage returned to:  500.0144696860078\n",
      "cameraStage returned to:  700.0144696860078\n"
     ]
    }
   ],
   "source": [
    "mmc.loadSystemConfiguration(\"C:/Users/DBSB/Desktop/231221_stage_YN.cfg\")\n",
    "\n",
    "mmc.setPosition(\"sampleStage\", sampleStart)\n",
    "\n",
    "mmc.setPosition(\"cameraStage\", cameraStart)\n",
    "\n",
    "print(\"sampleStage returned to: \", mmc.getPosition(\"sampleStage\"))\n",
    "print(\"cameraStage returned to: \", mmc.getPosition(\"cameraStage\"))"
   ]
  },
  {
   "cell_type": "markdown",
   "id": "b18e8872",
   "metadata": {},
   "source": [
    "#### Calculate the number of shots"
   ]
  },
  {
   "cell_type": "markdown",
   "id": "639da4fd",
   "metadata": {},
   "source": [
    "Execute the following cell to confirm the number of shots. After confirming the number of shots, launch Multi-D Acq. and check the Time Points box in the upper left corner of the window, enter the calculated number of shots in the count box, and set interval to 0 mm/s. From the Image settings in Micro-Manger Home, set Exposure to 200 ms. Set Exposure to 200 ms."
   ]
  },
  {
   "cell_type": "code",
   "execution_count": 3,
   "id": "6698321c-546e-4b72-a774-1d7ab0bca3b3",
   "metadata": {
    "id": "6698321c-546e-4b72-a774-1d7ab0bca3b3"
   },
   "outputs": [
    {
     "ename": "NameError",
     "evalue": "name 'sampleDistance' is not defined",
     "output_type": "error",
     "traceback": [
      "\u001b[1;31m---------------------------------------------------------------------------\u001b[0m",
      "\u001b[1;31mNameError\u001b[0m                                 Traceback (most recent call last)",
      "Cell \u001b[1;32mIn[3], line 1\u001b[0m\n\u001b[1;32m----> 1\u001b[0m images \u001b[38;5;241m=\u001b[39m \u001b[43msampleDistance\u001b[49m\u001b[38;5;241m/\u001b[39m(\u001b[38;5;241m0.24\u001b[39m\u001b[38;5;241m*\u001b[39msampleSpeed)\n\u001b[0;32m      2\u001b[0m \u001b[38;5;28mprint\u001b[39m(\u001b[38;5;28mint\u001b[39m(images))\n",
      "\u001b[1;31mNameError\u001b[0m: name 'sampleDistance' is not defined"
     ]
    }
   ],
   "source": [
    "images = sampleDistance/(0.24*sampleSpeed)\n",
    "print(int(images))"
   ]
  },
  {
   "cell_type": "markdown",
   "id": "25096a83",
   "metadata": {},
   "source": [
    "#### Execution of shooting"
   ]
  },
  {
   "cell_type": "markdown",
   "id": "bf55ba96",
   "metadata": {},
   "source": [
    "With the following cell running, select Aquire on the Multi-D Acq. of the Micro-Manager; the selection is transmitted to the program via Arduino and the following cell is executed."
   ]
  },
  {
   "cell_type": "code",
   "execution_count": null,
   "id": "d36fb566-bd40-4174-b1ad-b794b069bd12",
   "metadata": {},
   "outputs": [],
   "source": [
    "import time\n",
    "import serial\n",
    "import threading\n",
    "from pymmcore_plus import CMMCorePlus\n",
    "\n",
    "# Initialize Serial Connection and CMMCorePlus\n",
    "COM = \"COM6\"\n",
    "bitRate = 19200\n",
    "ser = serial.Serial(COM, bitRate, timeout=1)\n",
    "mmc = CMMCorePlus.instance()\n",
    "\n",
    "config_file = \"C:/Users/DBSB/Desktop/231221_stage_YN.cfg\"\n",
    "mmc.loadSystemConfiguration(config_file)\n",
    "\n",
    "devices = mmc.getLoadedDevices()\n",
    "print(\"Loaded devices:\", devices)\n",
    "\n",
    "if \"sampleStage\" in devices and \"cameraStage\" in devices:\n",
    "    print(\"Both stages are loaded correctly.\")\n",
    "else:\n",
    "    print(\"Error: Stages not loaded. Check device configuration.\")\n",
    "\n",
    "def move_stage(stage_label, absolute_position):\n",
    "    try:\n",
    "        mmc.setPosition(stage_label, absolute_position)\n",
    "        mmc.waitForDevice(stage_label)\n",
    "        final_position = mmc.getPosition(stage_label)\n",
    "        print(f\"Moved {stage_label} to {final_position}\")\n",
    "    except Exception as e:\n",
    "        print(f\"Error moving {stage_label}: {e}\")\n",
    "\n",
    "def move_stages_simultaneously(sampleEnd, cameraEnd):\n",
    "   \n",
    "    threads = [\n",
    "        threading.Thread(target=move_stage, args=(\"sampleStage\", sampleEnd)),\n",
    "        threading.Thread(target=move_stage, args=(\"cameraStage\", cameraEnd))\n",
    "    ]\n",
    "\n",
    "    for thread in threads:\n",
    "        thread.start()\n",
    "\n",
    "    for thread in threads:\n",
    "        thread.join()\n",
    "\n",
    "def read_serial_and_move_stages():\n",
    "    while True:\n",
    "        data = ser.read(512)\n",
    "        pickup = data[0:1]\n",
    "        if pickup.decode(\"utf-8\") == \"1\":\n",
    "            print(\"Triggering stage movement...\")\n",
    "            move_stages_simultaneously(sampleEnd, cameraEnd)\n",
    "        elif pickup.decode(\"utf-8\") == \"0\":\n",
    "            print(\"Standby for movement\")\n",
    "        time.sleep(0.1)\n",
    "\n",
    "serial_thread = threading.Thread(target=read_serial_and_move_stages)\n",
    "serial_thread.daemon = True\n",
    "serial_thread.start()\n",
    "\n",
    "try:\n",
    "    while True:\n",
    "        time.sleep(1)\n",
    "except KeyboardInterrupt:\n",
    "    print(\"Program terminated\")"
   ]
  },
  {
   "cell_type": "markdown",
   "id": "0753330b-0d3e-47ab-ad12-a04870e582f1",
   "metadata": {},
   "source": [
    "Press ■ from the top control bar of jupyter notebook to finish executing the above code. Specify the destination of the captured image from Micro-Manager and save it."
   ]
  }
 ],
 "metadata": {
  "colab": {
   "provenance": []
  },
  "kernelspec": {
   "display_name": "Python 3 (ipykernel)",
   "language": "python",
   "name": "python3"
  },
  "language_info": {
   "codemirror_mode": {
    "name": "ipython",
    "version": 3
   },
   "file_extension": ".py",
   "mimetype": "text/x-python",
   "name": "python",
   "nbconvert_exporter": "python",
   "pygments_lexer": "ipython3",
   "version": "3.10.9"
  }
 },
 "nbformat": 4,
 "nbformat_minor": 5
}
